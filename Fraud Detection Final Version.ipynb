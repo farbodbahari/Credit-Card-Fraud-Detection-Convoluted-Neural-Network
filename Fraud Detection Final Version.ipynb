{
 "cells": [
  {
   "cell_type": "markdown",
   "metadata": {},
   "source": [
    "Consider the Credit Card Fraud Detection data set. You goal is to build a neural network\n",
    "to predict if a given transaction is fraudulent or not.\n",
    "Guidelines\n",
    "1. You are free to use ideas from Kaggle kernels, or any other online resource you may\n",
    "find. You are not allowed, however, to copy and paste from any source.\n",
    "2. You are not supposed to exchange information with other groups.\n",
    "\n",
    "\n",
    "https://www.kaggle.com/mlg-ulb/creditcardfraud"
   ]
  },
  {
   "cell_type": "code",
   "execution_count": 1,
   "metadata": {},
   "outputs": [
    {
     "name": "stderr",
     "output_type": "stream",
     "text": [
      "Using TensorFlow backend.\n"
     ]
    }
   ],
   "source": [
    "#### Import libraries\n",
    "import pandas as pd\n",
    "import numpy as np\n",
    "import matplotlib.pyplot as plt\n",
    "\n",
    "from keras import backend as K\n",
    "from keras.models import Sequential\n",
    "from keras.layers.core import Activation, Dropout, Dense\n",
    "from keras.layers import Conv2D, MaxPooling2D, Dense, Flatten, Conv1D, MaxPooling1D, BatchNormalization , MaxPool1D\n",
    "from keras.layers import GlobalMaxPooling1D\n",
    "from keras.layers import Conv1D\n",
    "from keras.layers import MaxPooling1D, MaxPooling2D\n",
    "from keras.layers import Flatten\n",
    "from keras import optimizers\n",
    "from keras.utils import to_categorical\n",
    "from keras.utils import np_utils\n",
    "from tensorflow.keras.optimizers import Adam\n",
    "from sklearn.metrics import classification_report\n",
    "\n",
    "from sklearn.metrics import accuracy_score, confusion_matrix\n",
    "from imblearn.over_sampling import SMOTE\n",
    "from imblearn.under_sampling import NearMiss\n",
    "\n",
    "from sklearn.model_selection import train_test_split\n",
    "from sklearn.utils import shuffle\n",
    "from sklearn.metrics import precision_score , accuracy_score , f1_score,recall_score\n",
    "from sklearn.linear_model import LogisticRegression\n",
    "from sklearn.metrics import roc_auc_score\n",
    "from sklearn.preprocessing import scale"
   ]
  },
  {
   "cell_type": "code",
   "execution_count": 4,
   "metadata": {},
   "outputs": [
    {
     "data": {
      "text/html": [
       "<div>\n",
       "<style scoped>\n",
       "    .dataframe tbody tr th:only-of-type {\n",
       "        vertical-align: middle;\n",
       "    }\n",
       "\n",
       "    .dataframe tbody tr th {\n",
       "        vertical-align: top;\n",
       "    }\n",
       "\n",
       "    .dataframe thead th {\n",
       "        text-align: right;\n",
       "    }\n",
       "</style>\n",
       "<table border=\"1\" class=\"dataframe\">\n",
       "  <thead>\n",
       "    <tr style=\"text-align: right;\">\n",
       "      <th></th>\n",
       "      <th>Time</th>\n",
       "      <th>V1</th>\n",
       "      <th>V2</th>\n",
       "      <th>V3</th>\n",
       "      <th>V4</th>\n",
       "      <th>V5</th>\n",
       "      <th>V6</th>\n",
       "      <th>V7</th>\n",
       "      <th>V8</th>\n",
       "      <th>V9</th>\n",
       "      <th>...</th>\n",
       "      <th>V21</th>\n",
       "      <th>V22</th>\n",
       "      <th>V23</th>\n",
       "      <th>V24</th>\n",
       "      <th>V25</th>\n",
       "      <th>V26</th>\n",
       "      <th>V27</th>\n",
       "      <th>V28</th>\n",
       "      <th>Amount</th>\n",
       "      <th>Class</th>\n",
       "    </tr>\n",
       "  </thead>\n",
       "  <tbody>\n",
       "    <tr>\n",
       "      <th>count</th>\n",
       "      <td>284807.000000</td>\n",
       "      <td>2.848070e+05</td>\n",
       "      <td>2.848070e+05</td>\n",
       "      <td>2.848070e+05</td>\n",
       "      <td>2.848070e+05</td>\n",
       "      <td>2.848070e+05</td>\n",
       "      <td>2.848070e+05</td>\n",
       "      <td>2.848070e+05</td>\n",
       "      <td>2.848070e+05</td>\n",
       "      <td>2.848070e+05</td>\n",
       "      <td>...</td>\n",
       "      <td>2.848070e+05</td>\n",
       "      <td>2.848070e+05</td>\n",
       "      <td>2.848070e+05</td>\n",
       "      <td>2.848070e+05</td>\n",
       "      <td>2.848070e+05</td>\n",
       "      <td>2.848070e+05</td>\n",
       "      <td>2.848070e+05</td>\n",
       "      <td>2.848070e+05</td>\n",
       "      <td>284807.000000</td>\n",
       "      <td>284807.000000</td>\n",
       "    </tr>\n",
       "    <tr>\n",
       "      <th>mean</th>\n",
       "      <td>94813.859575</td>\n",
       "      <td>3.919560e-15</td>\n",
       "      <td>5.688174e-16</td>\n",
       "      <td>-8.769071e-15</td>\n",
       "      <td>2.782312e-15</td>\n",
       "      <td>-1.552563e-15</td>\n",
       "      <td>2.010663e-15</td>\n",
       "      <td>-1.694249e-15</td>\n",
       "      <td>-1.927028e-16</td>\n",
       "      <td>-3.137024e-15</td>\n",
       "      <td>...</td>\n",
       "      <td>1.537294e-16</td>\n",
       "      <td>7.959909e-16</td>\n",
       "      <td>5.367590e-16</td>\n",
       "      <td>4.458112e-15</td>\n",
       "      <td>1.453003e-15</td>\n",
       "      <td>1.699104e-15</td>\n",
       "      <td>-3.660161e-16</td>\n",
       "      <td>-1.206049e-16</td>\n",
       "      <td>88.349619</td>\n",
       "      <td>0.001727</td>\n",
       "    </tr>\n",
       "    <tr>\n",
       "      <th>std</th>\n",
       "      <td>47488.145955</td>\n",
       "      <td>1.958696e+00</td>\n",
       "      <td>1.651309e+00</td>\n",
       "      <td>1.516255e+00</td>\n",
       "      <td>1.415869e+00</td>\n",
       "      <td>1.380247e+00</td>\n",
       "      <td>1.332271e+00</td>\n",
       "      <td>1.237094e+00</td>\n",
       "      <td>1.194353e+00</td>\n",
       "      <td>1.098632e+00</td>\n",
       "      <td>...</td>\n",
       "      <td>7.345240e-01</td>\n",
       "      <td>7.257016e-01</td>\n",
       "      <td>6.244603e-01</td>\n",
       "      <td>6.056471e-01</td>\n",
       "      <td>5.212781e-01</td>\n",
       "      <td>4.822270e-01</td>\n",
       "      <td>4.036325e-01</td>\n",
       "      <td>3.300833e-01</td>\n",
       "      <td>250.120109</td>\n",
       "      <td>0.041527</td>\n",
       "    </tr>\n",
       "    <tr>\n",
       "      <th>min</th>\n",
       "      <td>0.000000</td>\n",
       "      <td>-5.640751e+01</td>\n",
       "      <td>-7.271573e+01</td>\n",
       "      <td>-4.832559e+01</td>\n",
       "      <td>-5.683171e+00</td>\n",
       "      <td>-1.137433e+02</td>\n",
       "      <td>-2.616051e+01</td>\n",
       "      <td>-4.355724e+01</td>\n",
       "      <td>-7.321672e+01</td>\n",
       "      <td>-1.343407e+01</td>\n",
       "      <td>...</td>\n",
       "      <td>-3.483038e+01</td>\n",
       "      <td>-1.093314e+01</td>\n",
       "      <td>-4.480774e+01</td>\n",
       "      <td>-2.836627e+00</td>\n",
       "      <td>-1.029540e+01</td>\n",
       "      <td>-2.604551e+00</td>\n",
       "      <td>-2.256568e+01</td>\n",
       "      <td>-1.543008e+01</td>\n",
       "      <td>0.000000</td>\n",
       "      <td>0.000000</td>\n",
       "    </tr>\n",
       "    <tr>\n",
       "      <th>25%</th>\n",
       "      <td>54201.500000</td>\n",
       "      <td>-9.203734e-01</td>\n",
       "      <td>-5.985499e-01</td>\n",
       "      <td>-8.903648e-01</td>\n",
       "      <td>-8.486401e-01</td>\n",
       "      <td>-6.915971e-01</td>\n",
       "      <td>-7.682956e-01</td>\n",
       "      <td>-5.540759e-01</td>\n",
       "      <td>-2.086297e-01</td>\n",
       "      <td>-6.430976e-01</td>\n",
       "      <td>...</td>\n",
       "      <td>-2.283949e-01</td>\n",
       "      <td>-5.423504e-01</td>\n",
       "      <td>-1.618463e-01</td>\n",
       "      <td>-3.545861e-01</td>\n",
       "      <td>-3.171451e-01</td>\n",
       "      <td>-3.269839e-01</td>\n",
       "      <td>-7.083953e-02</td>\n",
       "      <td>-5.295979e-02</td>\n",
       "      <td>5.600000</td>\n",
       "      <td>0.000000</td>\n",
       "    </tr>\n",
       "    <tr>\n",
       "      <th>50%</th>\n",
       "      <td>84692.000000</td>\n",
       "      <td>1.810880e-02</td>\n",
       "      <td>6.548556e-02</td>\n",
       "      <td>1.798463e-01</td>\n",
       "      <td>-1.984653e-02</td>\n",
       "      <td>-5.433583e-02</td>\n",
       "      <td>-2.741871e-01</td>\n",
       "      <td>4.010308e-02</td>\n",
       "      <td>2.235804e-02</td>\n",
       "      <td>-5.142873e-02</td>\n",
       "      <td>...</td>\n",
       "      <td>-2.945017e-02</td>\n",
       "      <td>6.781943e-03</td>\n",
       "      <td>-1.119293e-02</td>\n",
       "      <td>4.097606e-02</td>\n",
       "      <td>1.659350e-02</td>\n",
       "      <td>-5.213911e-02</td>\n",
       "      <td>1.342146e-03</td>\n",
       "      <td>1.124383e-02</td>\n",
       "      <td>22.000000</td>\n",
       "      <td>0.000000</td>\n",
       "    </tr>\n",
       "    <tr>\n",
       "      <th>75%</th>\n",
       "      <td>139320.500000</td>\n",
       "      <td>1.315642e+00</td>\n",
       "      <td>8.037239e-01</td>\n",
       "      <td>1.027196e+00</td>\n",
       "      <td>7.433413e-01</td>\n",
       "      <td>6.119264e-01</td>\n",
       "      <td>3.985649e-01</td>\n",
       "      <td>5.704361e-01</td>\n",
       "      <td>3.273459e-01</td>\n",
       "      <td>5.971390e-01</td>\n",
       "      <td>...</td>\n",
       "      <td>1.863772e-01</td>\n",
       "      <td>5.285536e-01</td>\n",
       "      <td>1.476421e-01</td>\n",
       "      <td>4.395266e-01</td>\n",
       "      <td>3.507156e-01</td>\n",
       "      <td>2.409522e-01</td>\n",
       "      <td>9.104512e-02</td>\n",
       "      <td>7.827995e-02</td>\n",
       "      <td>77.165000</td>\n",
       "      <td>0.000000</td>\n",
       "    </tr>\n",
       "    <tr>\n",
       "      <th>max</th>\n",
       "      <td>172792.000000</td>\n",
       "      <td>2.454930e+00</td>\n",
       "      <td>2.205773e+01</td>\n",
       "      <td>9.382558e+00</td>\n",
       "      <td>1.687534e+01</td>\n",
       "      <td>3.480167e+01</td>\n",
       "      <td>7.330163e+01</td>\n",
       "      <td>1.205895e+02</td>\n",
       "      <td>2.000721e+01</td>\n",
       "      <td>1.559499e+01</td>\n",
       "      <td>...</td>\n",
       "      <td>2.720284e+01</td>\n",
       "      <td>1.050309e+01</td>\n",
       "      <td>2.252841e+01</td>\n",
       "      <td>4.584549e+00</td>\n",
       "      <td>7.519589e+00</td>\n",
       "      <td>3.517346e+00</td>\n",
       "      <td>3.161220e+01</td>\n",
       "      <td>3.384781e+01</td>\n",
       "      <td>25691.160000</td>\n",
       "      <td>1.000000</td>\n",
       "    </tr>\n",
       "  </tbody>\n",
       "</table>\n",
       "<p>8 rows × 31 columns</p>\n",
       "</div>"
      ],
      "text/plain": [
       "                Time            V1            V2            V3            V4  \\\n",
       "count  284807.000000  2.848070e+05  2.848070e+05  2.848070e+05  2.848070e+05   \n",
       "mean    94813.859575  3.919560e-15  5.688174e-16 -8.769071e-15  2.782312e-15   \n",
       "std     47488.145955  1.958696e+00  1.651309e+00  1.516255e+00  1.415869e+00   \n",
       "min         0.000000 -5.640751e+01 -7.271573e+01 -4.832559e+01 -5.683171e+00   \n",
       "25%     54201.500000 -9.203734e-01 -5.985499e-01 -8.903648e-01 -8.486401e-01   \n",
       "50%     84692.000000  1.810880e-02  6.548556e-02  1.798463e-01 -1.984653e-02   \n",
       "75%    139320.500000  1.315642e+00  8.037239e-01  1.027196e+00  7.433413e-01   \n",
       "max    172792.000000  2.454930e+00  2.205773e+01  9.382558e+00  1.687534e+01   \n",
       "\n",
       "                 V5            V6            V7            V8            V9  \\\n",
       "count  2.848070e+05  2.848070e+05  2.848070e+05  2.848070e+05  2.848070e+05   \n",
       "mean  -1.552563e-15  2.010663e-15 -1.694249e-15 -1.927028e-16 -3.137024e-15   \n",
       "std    1.380247e+00  1.332271e+00  1.237094e+00  1.194353e+00  1.098632e+00   \n",
       "min   -1.137433e+02 -2.616051e+01 -4.355724e+01 -7.321672e+01 -1.343407e+01   \n",
       "25%   -6.915971e-01 -7.682956e-01 -5.540759e-01 -2.086297e-01 -6.430976e-01   \n",
       "50%   -5.433583e-02 -2.741871e-01  4.010308e-02  2.235804e-02 -5.142873e-02   \n",
       "75%    6.119264e-01  3.985649e-01  5.704361e-01  3.273459e-01  5.971390e-01   \n",
       "max    3.480167e+01  7.330163e+01  1.205895e+02  2.000721e+01  1.559499e+01   \n",
       "\n",
       "       ...           V21           V22           V23           V24  \\\n",
       "count  ...  2.848070e+05  2.848070e+05  2.848070e+05  2.848070e+05   \n",
       "mean   ...  1.537294e-16  7.959909e-16  5.367590e-16  4.458112e-15   \n",
       "std    ...  7.345240e-01  7.257016e-01  6.244603e-01  6.056471e-01   \n",
       "min    ... -3.483038e+01 -1.093314e+01 -4.480774e+01 -2.836627e+00   \n",
       "25%    ... -2.283949e-01 -5.423504e-01 -1.618463e-01 -3.545861e-01   \n",
       "50%    ... -2.945017e-02  6.781943e-03 -1.119293e-02  4.097606e-02   \n",
       "75%    ...  1.863772e-01  5.285536e-01  1.476421e-01  4.395266e-01   \n",
       "max    ...  2.720284e+01  1.050309e+01  2.252841e+01  4.584549e+00   \n",
       "\n",
       "                V25           V26           V27           V28         Amount  \\\n",
       "count  2.848070e+05  2.848070e+05  2.848070e+05  2.848070e+05  284807.000000   \n",
       "mean   1.453003e-15  1.699104e-15 -3.660161e-16 -1.206049e-16      88.349619   \n",
       "std    5.212781e-01  4.822270e-01  4.036325e-01  3.300833e-01     250.120109   \n",
       "min   -1.029540e+01 -2.604551e+00 -2.256568e+01 -1.543008e+01       0.000000   \n",
       "25%   -3.171451e-01 -3.269839e-01 -7.083953e-02 -5.295979e-02       5.600000   \n",
       "50%    1.659350e-02 -5.213911e-02  1.342146e-03  1.124383e-02      22.000000   \n",
       "75%    3.507156e-01  2.409522e-01  9.104512e-02  7.827995e-02      77.165000   \n",
       "max    7.519589e+00  3.517346e+00  3.161220e+01  3.384781e+01   25691.160000   \n",
       "\n",
       "               Class  \n",
       "count  284807.000000  \n",
       "mean        0.001727  \n",
       "std         0.041527  \n",
       "min         0.000000  \n",
       "25%         0.000000  \n",
       "50%         0.000000  \n",
       "75%         0.000000  \n",
       "max         1.000000  \n",
       "\n",
       "[8 rows x 31 columns]"
      ]
     },
     "execution_count": 4,
     "metadata": {},
     "output_type": "execute_result"
    }
   ],
   "source": [
    "### Load the data from local drive\n",
    "path_data=\"C:\\\\Users\\\\fbaharkoush\\\\IE 598 Machine Learning\\\\Neural Network Proejcts\\\\Credit Card Fruad Detection\\\\Data\\\\\"\n",
    "df_data=pd.read_csv(path_data+\"creditcard.csv\")\n",
    "df_data.describe()"
   ]
  },
  {
   "cell_type": "code",
   "execution_count": 5,
   "metadata": {
    "scrolled": true
   },
   "outputs": [
    {
     "name": "stdout",
     "output_type": "stream",
     "text": [
      "No missing value in the dataset\n"
     ]
    }
   ],
   "source": [
    "if df_data.isnull().sum().sum()==0:\n",
    "    print(\"No missing value in the dataset\")"
   ]
  },
  {
   "cell_type": "code",
   "execution_count": 6,
   "metadata": {},
   "outputs": [
    {
     "data": {
      "text/html": [
       "<div>\n",
       "<style scoped>\n",
       "    .dataframe tbody tr th:only-of-type {\n",
       "        vertical-align: middle;\n",
       "    }\n",
       "\n",
       "    .dataframe tbody tr th {\n",
       "        vertical-align: top;\n",
       "    }\n",
       "\n",
       "    .dataframe thead th {\n",
       "        text-align: right;\n",
       "    }\n",
       "</style>\n",
       "<table border=\"1\" class=\"dataframe\">\n",
       "  <thead>\n",
       "    <tr style=\"text-align: right;\">\n",
       "      <th></th>\n",
       "      <th>Class</th>\n",
       "      <th>count</th>\n",
       "      <th>mean</th>\n",
       "      <th>std</th>\n",
       "      <th>min</th>\n",
       "      <th>25%</th>\n",
       "      <th>50%</th>\n",
       "      <th>75%</th>\n",
       "      <th>max</th>\n",
       "      <th>Amount</th>\n",
       "    </tr>\n",
       "  </thead>\n",
       "  <tbody>\n",
       "    <tr>\n",
       "      <th>0</th>\n",
       "      <td>0</td>\n",
       "      <td>284,315.00</td>\n",
       "      <td>88.29</td>\n",
       "      <td>250.11</td>\n",
       "      <td>0.00</td>\n",
       "      <td>5.65</td>\n",
       "      <td>22.00</td>\n",
       "      <td>77.05</td>\n",
       "      <td>25,691.16</td>\n",
       "      <td>25,102,462.04</td>\n",
       "    </tr>\n",
       "    <tr>\n",
       "      <th>1</th>\n",
       "      <td>1</td>\n",
       "      <td>492.00</td>\n",
       "      <td>122.21</td>\n",
       "      <td>256.68</td>\n",
       "      <td>0.00</td>\n",
       "      <td>1.00</td>\n",
       "      <td>9.25</td>\n",
       "      <td>105.89</td>\n",
       "      <td>2,125.87</td>\n",
       "      <td>60,127.97</td>\n",
       "    </tr>\n",
       "  </tbody>\n",
       "</table>\n",
       "</div>"
      ],
      "text/plain": [
       "   Class      count   mean    std  min  25%   50%    75%       max  \\\n",
       "0      0 284,315.00  88.29 250.11 0.00 5.65 22.00  77.05 25,691.16   \n",
       "1      1     492.00 122.21 256.68 0.00 1.00  9.25 105.89  2,125.87   \n",
       "\n",
       "         Amount  \n",
       "0 25,102,462.04  \n",
       "1     60,127.97  "
      ]
     },
     "execution_count": 6,
     "metadata": {},
     "output_type": "execute_result"
    }
   ],
   "source": [
    "### Get a summary of number of Fruad (1) and Number of Regular (0) transaction\n",
    "pd.options.display.float_format = '{:,.2f}'.format\n",
    "pd.merge(df_data.groupby(\"Class\")[\"Amount\"].describe().reset_index(),\n",
    "         df_data.groupby(\"Class\")[\"Amount\"].sum().reset_index(name=\"Amount\"))"
   ]
  },
  {
   "cell_type": "markdown",
   "metadata": {},
   "source": [
    "This Dataset is imbalanced so random sampling would not enter 80% of fruad transactions into the Traning set. Therefore, we we will use SMOTE package to generate sample from minority class (in this case fruad (y=1))"
   ]
  },
  {
   "cell_type": "code",
   "execution_count": 8,
   "metadata": {},
   "outputs": [],
   "source": [
    "### Data Preprations\n",
    "df_data[\"Time\"]=scale(df_data[\"Time\"])\n",
    "df_data[\"Amount\"]=scale(df_data[\"Amount\"])\n",
    "X_features=df_data.drop(\"Class\",axis=1).columns\n",
    "### n_cols is the number of features\n",
    "n_cols=X_features.shape[0]\n",
    "\n",
    "### X (independent and y targte varibale)\n",
    "X=df_data[X_features].values\n",
    "y=df_data[\"Class\"].values"
   ]
  },
  {
   "cell_type": "markdown",
   "metadata": {},
   "source": [
    "### SMOTE"
   ]
  },
  {
   "cell_type": "code",
   "execution_count": 9,
   "metadata": {},
   "outputs": [],
   "source": [
    "### Split the dataset into train and tets\n",
    "X_train, X_test, y_train, y_test = train_test_split(X, y, random_state = 100, stratify=y,test_size=.25)"
   ]
  },
  {
   "cell_type": "code",
   "execution_count": 10,
   "metadata": {},
   "outputs": [
    {
     "name": "stdout",
     "output_type": "stream",
     "text": [
      "Shape of X_train Before SMOTE (213605, 30)\n"
     ]
    }
   ],
   "source": [
    "print(\"Shape of X_train Before SMOTE\", (X_train.shape))"
   ]
  },
  {
   "cell_type": "code",
   "execution_count": 11,
   "metadata": {},
   "outputs": [
    {
     "name": "stdout",
     "output_type": "stream",
     "text": [
      "Shape of X_train After SMOTE (426472, 30)\n"
     ]
    }
   ],
   "source": [
    "### SMOTE the Train Portion\n",
    "smt = SMOTE()\n",
    "X_train, y_train = smt.fit_sample(X_train, y_train)\n",
    "print(\"Shape of X_train After SMOTE\", (X_train.shape))"
   ]
  },
  {
   "cell_type": "markdown",
   "metadata": {},
   "source": [
    "### Custome Recall, Precision, and F1-score to keep track of these metrics while fitting the model "
   ]
  },
  {
   "cell_type": "code",
   "execution_count": 12,
   "metadata": {},
   "outputs": [],
   "source": [
    "# Recall function\n",
    "def recall_m(y_true, y_pred):\n",
    "    true_positives = K.sum(K.round(K.clip(y_true * y_pred, 0, 1)))\n",
    "    possible_positives = K.sum(K.round(K.clip(y_true, 0, 1)))\n",
    "    recall = true_positives / (possible_positives + K.epsilon())\n",
    "    return recall"
   ]
  },
  {
   "cell_type": "code",
   "execution_count": 13,
   "metadata": {},
   "outputs": [],
   "source": [
    "# Precision function\n",
    "def precision_m(y_true, y_pred):\n",
    "    true_positives = K.sum(K.round(K.clip(y_true * y_pred, 0, 1)))\n",
    "    predicted_positives = K.sum(K.round(K.clip(y_pred, 0, 1)))\n",
    "    precision = true_positives / (predicted_positives + K.epsilon())\n",
    "    return precision"
   ]
  },
  {
   "cell_type": "code",
   "execution_count": 14,
   "metadata": {},
   "outputs": [],
   "source": [
    "# F1-measure function\n",
    "def f1_m(y_true, y_pred):\n",
    "    precision = precision_m(y_true, y_pred)\n",
    "    recall = recall_m(y_true, y_pred)\n",
    "    return 2 * ((precision * recall) / (precision + recall + K.epsilon()))"
   ]
  },
  {
   "cell_type": "markdown",
   "metadata": {},
   "source": [
    "### Fit Logistic Regression\n",
    "Just to compare it's performance against Convoluted Neural Network Model"
   ]
  },
  {
   "cell_type": "code",
   "execution_count": 15,
   "metadata": {},
   "outputs": [],
   "source": [
    "# ## Fit the Model\n",
    "# logReg_model=LogisticRegression(solver='lbfgs')\n",
    "# logReg_model.fit(X_train,y_train)\n",
    "# ### Predict\n",
    "# y_pred_train=logReg_model.predict(X_train)\n",
    "# y_pred_test=logReg_model.predict(X_test)\n",
    "\n",
    "# print(\"Accuracy Score of Logistic Regression Model on Train Set\",logReg_model.score(X_train,y_train))\n",
    "# print(\"Accuracy Score of Logistic Regression Model on Test Set\",logReg_model.score(X_test,y_test))\n",
    "# print(\"ROC_AUC of Logistic Regression Model on Train Set\",roc_auc_score(y_train,y_pred_train))\n",
    "# print(\"ROC_AUC  of Logistic Regression Model on Test Set\",roc_auc_score(y_test,y_pred_test))"
   ]
  },
  {
   "cell_type": "code",
   "execution_count": 16,
   "metadata": {},
   "outputs": [],
   "source": [
    "# print(classification_report(y_test,logReg_model.predict(X_test)))"
   ]
  },
  {
   "cell_type": "code",
   "execution_count": 17,
   "metadata": {},
   "outputs": [],
   "source": [
    "# confusion_matrix(y_test,y_pred_test)"
   ]
  },
  {
   "cell_type": "markdown",
   "metadata": {},
   "source": [
    "### Tow layers of 1D Convolutional Neural Network"
   ]
  },
  {
   "cell_type": "code",
   "execution_count": 19,
   "metadata": {},
   "outputs": [
    {
     "data": {
      "text/plain": [
       "((426472, 30), (71202, 30))"
      ]
     },
     "execution_count": 19,
     "metadata": {},
     "output_type": "execute_result"
    }
   ],
   "source": [
    "X_train.shape,X_test.shape"
   ]
  },
  {
   "cell_type": "code",
   "execution_count": 20,
   "metadata": {},
   "outputs": [],
   "source": [
    "X_train = X_train.reshape(X_train.shape[0], X_train.shape[1], 1)\n",
    "X_test = X_test.reshape(X_test.shape[0], X_test.shape[1], 1) \n",
    "numer_of_unique_values_of_target_varibale=len(np.unique(y_train))"
   ]
  },
  {
   "cell_type": "code",
   "execution_count": 21,
   "metadata": {},
   "outputs": [
    {
     "data": {
      "text/plain": [
       "((426472, 30, 1), (71202, 30, 1))"
      ]
     },
     "execution_count": 21,
     "metadata": {},
     "output_type": "execute_result"
    }
   ],
   "source": [
    "X_train.shape,X_test.shape"
   ]
  },
  {
   "cell_type": "code",
   "execution_count": 22,
   "metadata": {},
   "outputs": [
    {
     "data": {
      "text/plain": [
       "2"
      ]
     },
     "execution_count": 22,
     "metadata": {},
     "output_type": "execute_result"
    }
   ],
   "source": [
    "numer_of_unique_values_of_target_varibale"
   ]
  },
  {
   "cell_type": "code",
   "execution_count": 38,
   "metadata": {
    "scrolled": true
   },
   "outputs": [],
   "source": [
    "### Initiate the model and form the model. It's convoluted network. \n",
    "### First layer is a convoluted layer with 40 output space and length of 10 in 1D convolution window\n",
    "### then 10% of the info is forgotten and passed to the 2nd Layer with 35 nodes\n",
    "### then 10% of the info is forgotten and passed to the 3rd Layer with 40 output space and length of 10 in 1D convolution window\n",
    "### the 10% of the info is forgotten and passed to MaxPoolin to reduce dimentionality\n",
    "### flatten will unstack all the tensor values into a 1-D tensor and teh passed \n",
    "### to a dense network having 2 outputs (Fruad or regular Transaction)\n",
    "\n",
    "num_filters = 40\n",
    "filter_size = 10\n",
    "pool_size = 2\n",
    "\n",
    "conv_1D_model = Sequential([\n",
    "  Conv1D(num_filters, filter_size, input_shape=(X_train.shape[1], X_train.shape[2])),\n",
    "    Dropout(0.1),\n",
    "    Dense(35, activation='relu'),\n",
    "    Conv1D(num_filters, filter_size, activation='relu'),\n",
    "    Dropout(0.1),\n",
    "  MaxPooling1D(pool_size=pool_size),\n",
    "    Dropout(0.1),\n",
    "  Flatten(),\n",
    "    ### For the last layer the number of nodes has to be equal to the distinct number of target varibale  \n",
    "  Dense(numer_of_unique_values_of_target_varibale, activation='sigmoid'),\n",
    "])\n",
    "\n",
    "### Compile the model\n",
    "conv_1D_model.compile(optimizer='adam',\n",
    "  loss='binary_crossentropy',\n",
    "  metrics=['acc',f1_m, precision_m, recall_m])"
   ]
  },
  {
   "cell_type": "code",
   "execution_count": 39,
   "metadata": {
    "scrolled": true
   },
   "outputs": [
    {
     "name": "stdout",
     "output_type": "stream",
     "text": [
      "Train on 426472 samples, validate on 71202 samples\n",
      "Epoch 1/15\n",
      "426472/426472 [==============================] - 62s 145us/step - loss: 0.0318 - acc: 0.9896 - f1_m: 0.9896 - precision_m: 0.9897 - recall_m: 0.9897 - val_loss: 0.0169 - val_acc: 0.9972 - val_f1_m: 0.9972 - val_precision_m: 0.9972 - val_recall_m: 0.9972\n",
      "Epoch 2/15\n",
      "426472/426472 [==============================] - 61s 143us/step - loss: 0.0118 - acc: 0.9970 - f1_m: 0.9970 - precision_m: 0.9970 - recall_m: 0.9970 - val_loss: 0.0142 - val_acc: 0.9969 - val_f1_m: 0.9969 - val_precision_m: 0.9969 - val_recall_m: 0.9969\n",
      "Epoch 3/15\n",
      "426472/426472 [==============================] - 64s 150us/step - loss: 0.0088 - acc: 0.9978 - f1_m: 0.9978 - precision_m: 0.9978 - recall_m: 0.9978 - val_loss: 0.0158 - val_acc: 0.9975 - val_f1_m: 0.9975 - val_precision_m: 0.9975 - val_recall_m: 0.9975\n",
      "Epoch 4/15\n",
      "426472/426472 [==============================] - 64s 150us/step - loss: 0.0082 - acc: 0.9981 - f1_m: 0.9981 - precision_m: 0.9981 - recall_m: 0.9981 - val_loss: 0.0123 - val_acc: 0.9987 - val_f1_m: 0.9987 - val_precision_m: 0.9987 - val_recall_m: 0.9987\n",
      "Epoch 5/15\n",
      "426472/426472 [==============================] - 60s 141us/step - loss: 0.0070 - acc: 0.9983 - f1_m: 0.9983 - precision_m: 0.9983 - recall_m: 0.9983 - val_loss: 0.0148 - val_acc: 0.9976 - val_f1_m: 0.9976 - val_precision_m: 0.9976 - val_recall_m: 0.9976\n",
      "Epoch 6/15\n",
      "426472/426472 [==============================] - 62s 145us/step - loss: 0.0070 - acc: 0.9984 - f1_m: 0.9984 - precision_m: 0.9984 - recall_m: 0.9984 - val_loss: 0.0180 - val_acc: 0.9970 - val_f1_m: 0.9970 - val_precision_m: 0.9970 - val_recall_m: 0.9970\n",
      "Epoch 7/15\n",
      "426472/426472 [==============================] - 63s 147us/step - loss: 0.0067 - acc: 0.9984 - f1_m: 0.9984 - precision_m: 0.9984 - recall_m: 0.9984 - val_loss: 0.0141 - val_acc: 0.9979 - val_f1_m: 0.9980 - val_precision_m: 0.9980 - val_recall_m: 0.9980\n",
      "Epoch 8/15\n",
      "426472/426472 [==============================] - 61s 143us/step - loss: 0.0059 - acc: 0.9986 - f1_m: 0.9986 - precision_m: 0.9986 - recall_m: 0.9986 - val_loss: 0.0125 - val_acc: 0.9982 - val_f1_m: 0.9982 - val_precision_m: 0.9982 - val_recall_m: 0.9982\n",
      "Epoch 9/15\n",
      "426472/426472 [==============================] - 60s 142us/step - loss: 0.0059 - acc: 0.9987 - f1_m: 0.9987 - precision_m: 0.9987 - recall_m: 0.9987 - val_loss: 0.0136 - val_acc: 0.9985 - val_f1_m: 0.9985 - val_precision_m: 0.9985 - val_recall_m: 0.9985\n",
      "Epoch 10/15\n",
      "426472/426472 [==============================] - 63s 147us/step - loss: 0.0058 - acc: 0.9987 - f1_m: 0.9987 - precision_m: 0.9987 - recall_m: 0.9987 - val_loss: 0.0185 - val_acc: 0.9982 - val_f1_m: 0.9982 - val_precision_m: 0.9982 - val_recall_m: 0.9982\n",
      "Epoch 11/15\n",
      "426472/426472 [==============================] - 63s 147us/step - loss: 0.0059 - acc: 0.9987 - f1_m: 0.9987 - precision_m: 0.9987 - recall_m: 0.9987 - val_loss: 0.0144 - val_acc: 0.9985 - val_f1_m: 0.9985 - val_precision_m: 0.9985 - val_recall_m: 0.9985\n",
      "Epoch 12/15\n",
      "426472/426472 [==============================] - 64s 151us/step - loss: 0.0059 - acc: 0.9987 - f1_m: 0.9987 - precision_m: 0.9987 - recall_m: 0.9987 - val_loss: 0.0181 - val_acc: 0.9987 - val_f1_m: 0.9987 - val_precision_m: 0.9987 - val_recall_m: 0.9987\n",
      "Epoch 13/15\n",
      "426472/426472 [==============================] - 64s 150us/step - loss: 0.0057 - acc: 0.9988 - f1_m: 0.9988 - precision_m: 0.9988 - recall_m: 0.9988 - val_loss: 0.0155 - val_acc: 0.9980 - val_f1_m: 0.9980 - val_precision_m: 0.9980 - val_recall_m: 0.9980\n",
      "Epoch 14/15\n",
      "426472/426472 [==============================] - 64s 149us/step - loss: 0.0052 - acc: 0.9988 - f1_m: 0.9988 - precision_m: 0.9988 - recall_m: 0.9989 - val_loss: 0.0154 - val_acc: 0.9988 - val_f1_m: 0.9988 - val_precision_m: 0.9988 - val_recall_m: 0.9988\n",
      "Epoch 15/15\n",
      "426472/426472 [==============================] - 64s 149us/step - loss: 0.0055 - acc: 0.9988 - f1_m: 0.9988 - precision_m: 0.9988 - recall_m: 0.9988 - val_loss: 0.0178 - val_acc: 0.9986 - val_f1_m: 0.9986 - val_precision_m: 0.9986 - val_recall_m: 0.9986\n"
     ]
    }
   ],
   "source": [
    "\"\"\"Keras has a utility method that fixes the input issue by a fucntion called to_categorical. It turns our array of class \n",
    "integers into an array of one-hot vectors instead. For example, 2 (from 0 to 9) would become [0, 0, 1, 0, 0, 0, 0, 0, 0, 0] \n",
    "(it’s zero-indexed).\"\"\"\n",
    "### Fit the model\n",
    "conv_1D_model_history=conv_1D_model.fit(\n",
    "  X_train,\n",
    "  to_categorical(y_train),\n",
    "  epochs=15,\n",
    "  validation_data=(X_test,\n",
    "                   to_categorical(y_test)))"
   ]
  },
  {
   "cell_type": "markdown",
   "metadata": {},
   "source": [
    "### Model Evaluation"
   ]
  },
  {
   "cell_type": "code",
   "execution_count": 44,
   "metadata": {},
   "outputs": [
    {
     "name": "stdout",
     "output_type": "stream",
     "text": [
      "[[70999    80]\n",
      " [   21   102]]\n"
     ]
    }
   ],
   "source": [
    "print(confusion_matrix(y_test,conv_1D_model.predict_classes(X_test)))"
   ]
  },
  {
   "cell_type": "code",
   "execution_count": 45,
   "metadata": {},
   "outputs": [
    {
     "name": "stdout",
     "output_type": "stream",
     "text": [
      "              precision    recall  f1-score   support\n",
      "\n",
      "           0       1.00      1.00      1.00     71079\n",
      "           1       0.56      0.83      0.67       123\n",
      "\n",
      "    accuracy                           1.00     71202\n",
      "   macro avg       0.78      0.91      0.83     71202\n",
      "weighted avg       1.00      1.00      1.00     71202\n",
      "\n"
     ]
    }
   ],
   "source": [
    "print(classification_report(y_test,conv_1D_model.predict_classes(X_test)))"
   ]
  },
  {
   "cell_type": "code",
   "execution_count": 46,
   "metadata": {},
   "outputs": [
    {
     "name": "stdout",
     "output_type": "stream",
     "text": [
      "Model: \"sequential_4\"\n",
      "_________________________________________________________________\n",
      "Layer (type)                 Output Shape              Param #   \n",
      "=================================================================\n",
      "conv1d_7 (Conv1D)            (None, 21, 40)            440       \n",
      "_________________________________________________________________\n",
      "dropout_10 (Dropout)         (None, 21, 40)            0         \n",
      "_________________________________________________________________\n",
      "dense_7 (Dense)              (None, 21, 35)            1435      \n",
      "_________________________________________________________________\n",
      "conv1d_8 (Conv1D)            (None, 12, 40)            14040     \n",
      "_________________________________________________________________\n",
      "dropout_11 (Dropout)         (None, 12, 40)            0         \n",
      "_________________________________________________________________\n",
      "max_pooling1d_4 (MaxPooling1 (None, 6, 40)             0         \n",
      "_________________________________________________________________\n",
      "dropout_12 (Dropout)         (None, 6, 40)             0         \n",
      "_________________________________________________________________\n",
      "flatten_4 (Flatten)          (None, 240)               0         \n",
      "_________________________________________________________________\n",
      "dense_8 (Dense)              (None, 2)                 482       \n",
      "=================================================================\n",
      "Total params: 16,397\n",
      "Trainable params: 16,397\n",
      "Non-trainable params: 0\n",
      "_________________________________________________________________\n"
     ]
    }
   ],
   "source": [
    "conv_1D_model.summary()"
   ]
  },
  {
   "cell_type": "markdown",
   "metadata": {},
   "source": [
    "### Visualization"
   ]
  },
  {
   "cell_type": "code",
   "execution_count": 49,
   "metadata": {},
   "outputs": [],
   "source": [
    "# Visualizing loss and accuracy for Training set and validatio\n",
    "training_loss = conv_1D_model_history.history['loss']\n",
    "validation_loss = conv_1D_model_history.history['val_loss']\n",
    "training_Acc = conv_1D_model_history.history['acc']\n",
    "validation_Acc = conv_1D_model_history.history['val_acc']"
   ]
  },
  {
   "cell_type": "code",
   "execution_count": 50,
   "metadata": {},
   "outputs": [
    {
     "data": {
      "image/png": "[encoded data removed]",
      "text/plain": [
       "<Figure size 432x288 with 1 Axes>"
      ]
     },
     "metadata": {
      "needs_background": "light"
     },
     "output_type": "display_data"
    },
    {
     "data": {
      "image/png": "[encoded data removed]",
      "text/plain": [
       "<Figure size 432x288 with 1 Axes>"
      ]
     },
     "metadata": {
      "needs_background": "light"
     },
     "output_type": "display_data"
    }
   ],
   "source": [
    "# number of epochs\n",
    "epoch_count = range(1, len(training_loss) + 1)\n",
    "# Visualize loss history for conv_1D_model\n",
    "plt.plot(epoch_count, training_loss, 'r--')\n",
    "plt.plot(epoch_count, validation_loss, 'b-')\n",
    "plt.legend(['Training Loss for 1D Convolutional', 'Validation Loss for 1D Convolutional'])\n",
    "plt.xlabel('Epoch')\n",
    "plt.ylabel('Loss')\n",
    "plt.show()\n",
    "# Visualize accuracy history for conv_1D_model\n",
    "plt.plot(epoch_count, training_Acc, 'r--')\n",
    "plt.plot(epoch_count, validation_Acc, 'b-')\n",
    "plt.legend(['Training Accuracy for 1D Convolutional', 'Validation Accuracy for 1D Convolutional'])\n",
    "plt.xlabel('Epoch')\n",
    "plt.ylabel('Accuracy')\n",
    "plt.show()"
   ]
  },
  {
   "cell_type": "code",
   "execution_count": 51,
   "metadata": {
    "scrolled": true
   },
   "outputs": [
    {
     "name": "stdout",
     "output_type": "stream",
     "text": [
      " 1D Convolutional Loss on test set: 0.017750759569638574\n",
      " 1D Convolutional Accuracy on test set: 0.9985815286636353\n",
      " 1D Convolutional F1_score on test set: 0.998582124710083\n",
      " 1D Convolutional Precision on test set: 0.998582124710083\n",
      " 1D Convolutional Recall on test set: 0.998582124710083\n"
     ]
    }
   ],
   "source": [
    "# Evaluating the model (1D Convolutional)\n",
    "loss, accuracy, f1_score, precision, recall = conv_1D_model.evaluate(X_test, to_categorical (y_test), verbose=0)\n",
    "print(\" 1D Convolutional Loss on test set:\", loss)\n",
    "print(\" 1D Convolutional Accuracy on test set:\", accuracy)\n",
    "print(\" 1D Convolutional F1_score on test set:\", f1_score)\n",
    "print(\" 1D Convolutional Precision on test set:\", precision)\n",
    "print(\" 1D Convolutional Recall on test set:\", recall)"
   ]
  },
  {
   "cell_type": "code",
   "execution_count": 52,
   "metadata": {},
   "outputs": [
    {
     "name": "stdout",
     "output_type": "stream",
     "text": [
      " 1D Convolutional Loss on train set: 0.0030418375601519864\n",
      " 1D Convolutional Accuracy on train set: 0.9993739128112793\n",
      " 1D Convolutional F1_score on train set: 0.9993739724159241\n",
      " 1D Convolutional Precision on train set: 0.9993739724159241\n",
      " 1D Convolutional Recall on train set: 0.9993739724159241\n"
     ]
    }
   ],
   "source": [
    "# Evaluating the model (1D Convolutional)\n",
    "loss, accuracy, f1_score, precision, recall = conv_1D_model.evaluate(X_train, to_categorical (y_train), verbose=0)\n",
    "print(\" 1D Convolutional Loss on train set:\", loss)\n",
    "print(\" 1D Convolutional Accuracy on train set:\", accuracy)\n",
    "print(\" 1D Convolutional F1_score on train set:\", f1_score)\n",
    "print(\" 1D Convolutional Precision on train set:\", precision)\n",
    "print(\" 1D Convolutional Recall on train set:\", recall)"
   ]
  },
  {
   "cell_type": "markdown",
   "metadata": {},
   "source": [
    "### Conclusion"
   ]
  },
  {
   "cell_type": "code",
   "execution_count": 64,
   "metadata": {},
   "outputs": [
    {
     "data": {
      "text/html": [
       "<div>\n",
       "<style scoped>\n",
       "    .dataframe tbody tr th:only-of-type {\n",
       "        vertical-align: middle;\n",
       "    }\n",
       "\n",
       "    .dataframe tbody tr th {\n",
       "        vertical-align: top;\n",
       "    }\n",
       "\n",
       "    .dataframe thead th {\n",
       "        text-align: right;\n",
       "    }\n",
       "</style>\n",
       "<table border=\"1\" class=\"dataframe\">\n",
       "  <thead>\n",
       "    <tr style=\"text-align: right;\">\n",
       "      <th></th>\n",
       "      <th>0</th>\n",
       "      <th>1</th>\n",
       "    </tr>\n",
       "  </thead>\n",
       "  <tbody>\n",
       "    <tr>\n",
       "      <th>0</th>\n",
       "      <td>70999</td>\n",
       "      <td>80</td>\n",
       "    </tr>\n",
       "    <tr>\n",
       "      <th>1</th>\n",
       "      <td>21</td>\n",
       "      <td>102</td>\n",
       "    </tr>\n",
       "  </tbody>\n",
       "</table>\n",
       "</div>"
      ],
      "text/plain": [
       "       0    1\n",
       "0  70999   80\n",
       "1     21  102"
      ]
     },
     "execution_count": 64,
     "metadata": {},
     "output_type": "execute_result"
    }
   ],
   "source": [
    "pd.DataFrame(confusion_matrix(y_test,conv_1D_model.predict_classes(X_test)))"
   ]
  },
  {
   "cell_type": "markdown",
   "metadata": {},
   "source": [
    "Over all the model has done a very decent job. \n",
    "Only 21 fruad transactions are missed by the model out of 123 transactions.\n",
    "Only 80 regular transactions are missclassified by the model as fruad out of 71079 transactions."
   ]
  },
  {
   "cell_type": "code",
   "execution_count": 67,
   "metadata": {},
   "outputs": [
    {
     "name": "stdout",
     "output_type": "stream",
     "text": [
      "              precision    recall  f1-score   support\n",
      "\n",
      "           0       1.00      1.00      1.00     71079\n",
      "           1       0.56      0.83      0.67       123\n",
      "\n",
      "    accuracy                           1.00     71202\n",
      "   macro avg       0.78      0.91      0.83     71202\n",
      "weighted avg       1.00      1.00      1.00     71202\n",
      "\n"
     ]
    }
   ],
   "source": [
    "print(classification_report(y_test,conv_1D_model.predict_classes(X_test)))"
   ]
  },
  {
   "cell_type": "code",
   "execution_count": null,
   "metadata": {},
   "outputs": [],
   "source": []
  }
 ],
 "metadata": {
  "kernelspec": {
   "display_name": "Python 3",
   "language": "python",
   "name": "python3"
  },
  "language_info": {
   "codemirror_mode": {
    "name": "ipython",
    "version": 3
   },
   "file_extension": ".py",
   "mimetype": "text/x-python",
   "name": "python",
   "nbconvert_exporter": "python",
   "pygments_lexer": "ipython3",
   "version": "3.7.3"
  }
 },
 "nbformat": 4,
 "nbformat_minor": 2
}
